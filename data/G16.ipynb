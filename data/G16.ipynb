{
 "cells": [
  {
   "cell_type": "code",
   "execution_count": null,
   "id": "f9f17e06-64f0-4ee0-93e5-841f3352ee26",
   "metadata": {},
   "outputs": [],
   "source": [
    "import pandas as pd\n",
    "df = pd.read_csv('G16_Telecom – Customers  Plans with Devices_merged.csv', sep=';')\n",
    "df.sort_values('customers_id').head(6)\n",
    "Customer = df.loc[:,['customers_id','customers_name','email','signup_date']]\n",
    "Customer.columns=['id', 'name', 'email', 'signup_date']\n",
    "len(Customer['id'].unique())\n",
    "len(Customer)\n",
    "Customer.drop_duplicates(subset='id',inplace=True)\n",
    "len(Customer)\n",
    "from sqlalchemy import create_engine\n",
    "engine = create_engine('sqlite:///G16.db')\n",
    "Customer.to_sql('Customer', con =engine, if_exists='replace', index=False)\n",
    "engine.dispose()"
   ]
  },
  {
   "cell_type": "code",
   "execution_count": 68,
   "id": "2ca6d2c1-891d-4889-8bd8-265f9a51f86c",
   "metadata": {},
   "outputs": [],
   "source": [
    "import pandas as pd\n",
    "df = pd.read_csv('G16_Telecom – Customers  Plans with Devices_merged.csv', sep=';')\n",
    "df.sort_values('devices_id').head(6)\n",
    "Devices = df.loc[:,['devices_id','device_name','os']]\n",
    "Devices.columns=['id', 'name', 'os']\n",
    "len(Devices['id'].unique())\n",
    "len(Devices)\n",
    "Devices.drop_duplicates(subset='id',inplace=True)\n",
    "len(Devices)\n",
    "from sqlalchemy import create_engine\n",
    "engine = create_engine('sqlite:///G16.db')\n",
    "Devices.to_sql('Devices', con =engine, if_exists='replace', index=False)\n",
    "engine.dispose()"
   ]
  },
  {
   "cell_type": "code",
   "execution_count": 183,
   "id": "2383b556-f759-4a2c-a9e4-f4a217a2cc2e",
   "metadata": {},
   "outputs": [],
   "source": [
    "import pandas as pd\n",
    "df = pd.read_csv('G16_Telecom – Customers  Plans with Devices_merged.csv', sep=';')\n",
    "df.sort_values('plans_id').head(6)\n",
    "Plans = df.loc[:,['plans_id','plans_name','data_limit','monthly_fee']]\n",
    "Plans.columns=['id', 'name', 'data_limit','monthly_fee']\n",
    "len(Plans['id'].unique())\n",
    "len(Plans)\n",
    "Plans.drop_duplicates(subset='id',inplace=True)\n",
    "len(Plans)\n",
    "from sqlalchemy import create_engine\n",
    "engine = create_engine('sqlite:///G16.db')\n",
    "Plans.to_sql('Plans', con =engine, if_exists='replace', index=False)\n",
    "engine.dispose()"
   ]
  },
  {
   "cell_type": "code",
   "execution_count": 1,
   "id": "807801d1-7297-465e-90d4-6d404890b9be",
   "metadata": {},
   "outputs": [],
   "source": [
    "import pandas as pd\n",
    "df = pd.read_csv('G16_Telecom – Customers  Plans with Devices_merged.csv', sep=';')\n",
    "Subscriptions = df.loc[:, ['customers_id', 'devices_id']].copy()\n",
    "Subscriptions['subscription_id'] = Subscriptions.index +1\n",
    "Subscriptions.rename(columns={'subscription_id': 'id', 'customers_id': 'customer_id', 'devices_id': 'devices_id'}, inplace=True)\n",
    "Subscriptions.drop_duplicates(subset=['customer_id', 'devices_id'], inplace=True)\n",
    "Subscriptions = Subscriptions[['id', 'customer_id', 'devices_id']]\n",
    "from sqlalchemy import create_engine\n",
    "engine = create_engine('sqlite:///G16.db')\n",
    "Subscriptions.to_sql('Subscriptions', con =engine, if_exists='replace', index=False)\n",
    "engine.dispose()"
   ]
  },
  {
   "cell_type": "code",
   "execution_count": 3,
   "id": "c536209a-d426-4d5c-ac78-50b9e517a4d0",
   "metadata": {},
   "outputs": [],
   "source": [
    "import pandas as pd\n",
    "df = pd.read_csv('G16_Telecom – Customers  Plans with Devices_merged.csv', sep=';')\n",
    "Subscriptions = df.loc[:, ['customers_id', 'devices_id','plans_id','start_date','status']].copy()\n",
    "Subscriptions['subscription_id'] = Subscriptions.index +1\n",
    "Subscriptions.rename(columns={'subscription_id': 'id', 'customers_id': 'customer_id', 'devices_id': 'devices_id'}, inplace=True)\n",
    "Subscriptions.drop_duplicates(subset=['customer_id', 'devices_id'], inplace=True)\n",
    "Subs_Plans = Subscriptions.loc[:, ['id','plans_id', 'start_date','status']].copy()\n",
    "Subs_Plans['subs_plans_id'] = Subs_Plans.index +1\n",
    "Subs_Plans.rename(columns={'subs_plans_id': 'id','id':'subscription_id','plans_id': 'plans_id', 'start_date': 'start_date', 'status': 'status'}, inplace=True)\n",
    "Subs_Plans.drop_duplicates(subset='subscription_id', inplace=True)\n",
    "Subs_Plans = Subs_Plans[['id','subscription_id', 'plans_id','start_date','status']]\n",
    "from sqlalchemy import create_engine\n",
    "engine = create_engine('sqlite:///G16.db')\n",
    "Subs_Plans.to_sql('Subs_Plans', con =engine, if_exists='replace', index=False)\n",
    "engine.dispose()"
   ]
  }
 ],
 "metadata": {
  "kernelspec": {
   "display_name": "Python 3 (ipykernel)",
   "language": "python",
   "name": "python3"
  },
  "language_info": {
   "codemirror_mode": {
    "name": "ipython",
    "version": 3
   },
   "file_extension": ".py",
   "mimetype": "text/x-python",
   "name": "python",
   "nbconvert_exporter": "python",
   "pygments_lexer": "ipython3",
   "version": "3.12.4"
  }
 },
 "nbformat": 4,
 "nbformat_minor": 5
}
